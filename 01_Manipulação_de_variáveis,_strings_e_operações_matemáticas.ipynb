{
  "nbformat": 4,
  "nbformat_minor": 0,
  "metadata": {
    "colab": {
      "provenance": [],
      "authorship_tag": "ABX9TyPOFJ321sZ+q7DJsekIQM20"
    },
    "kernelspec": {
      "name": "python3",
      "display_name": "Python 3"
    },
    "language_info": {
      "name": "python"
    }
  },
  "cells": [
    {
      "cell_type": "markdown",
      "source": [
        "## Tipo de variáveis\n",
        "\n",
        "- Inteiros: valores positivos ou negativos, que não possuem uma parte fracionária.\n",
        "- Float (real): valores positivos ou negativos, que podem possuir uma parte fracionária (também podem ser inteiros).\n",
        "- Caracteres (char ou string): qualquer elemento presente no teclado.\n",
        "- Lógico (boleano): verdadeiro ou falso."
      ],
      "metadata": {
        "id": "j5q6GS0yr5Nb"
      }
    },
    {
      "cell_type": "code",
      "execution_count": null,
      "metadata": {
        "colab": {
          "base_uri": "https://localhost:8080/"
        },
        "id": "y4emzBhfrxc8",
        "outputId": "7475a2b0-2852-4824-e1df-de75a748e98c"
      },
      "outputs": [
        {
          "output_type": "stream",
          "name": "stdout",
          "text": [
            "-2\n"
          ]
        }
      ],
      "source": [
        "numero = -2\n",
        "print(numero)"
      ]
    },
    {
      "cell_type": "code",
      "source": [
        "palavra = 'linguagem de programação'\n",
        "print('Estou aprendendo uma', palavra)"
      ],
      "metadata": {
        "colab": {
          "base_uri": "https://localhost:8080/"
        },
        "id": "KCujf70osKcl",
        "outputId": "0e27a73b-99b2-4386-efcd-58fe26486bb7"
      },
      "execution_count": null,
      "outputs": [
        {
          "output_type": "stream",
          "name": "stdout",
          "text": [
            "Estou aprendendo uma linguagem de programação\n"
          ]
        }
      ]
    },
    {
      "cell_type": "code",
      "source": [
        "idade = int(input('Digite sua idade:'))\n",
        "print('Sua idade é ', idade)"
      ],
      "metadata": {
        "id": "uB5DEoQJsUVt"
      },
      "execution_count": null,
      "outputs": []
    },
    {
      "cell_type": "code",
      "source": [
        "pH = float(input('Qual o pH do solo durante a última medição?'))\n",
        "print('O pH medido foi ', pH)"
      ],
      "metadata": {
        "id": "bprhAcJ9sYJt"
      },
      "execution_count": null,
      "outputs": []
    },
    {
      "cell_type": "markdown",
      "source": [
        "## Strings"
      ],
      "metadata": {
        "id": "7XKHCHU7se4d"
      }
    },
    {
      "cell_type": "code",
      "source": [
        "a = 'casaco'\n",
        "maiuscula = a.upper()\n",
        "print(maiuscula)"
      ],
      "metadata": {
        "colab": {
          "base_uri": "https://localhost:8080/"
        },
        "id": "YxAWv7T6siRc",
        "outputId": "6bbfda14-32c4-4e44-c327-d5cb1cd031c5"
      },
      "execution_count": null,
      "outputs": [
        {
          "output_type": "stream",
          "name": "stdout",
          "text": [
            "CASACO\n"
          ]
        }
      ]
    },
    {
      "cell_type": "code",
      "source": [
        "minuscula = maiuscula.lower()\n",
        "print(minuscula)"
      ],
      "metadata": {
        "id": "PD36ArYtsmvW"
      },
      "execution_count": null,
      "outputs": []
    },
    {
      "cell_type": "code",
      "source": [
        "capital = a.capitalize()\n",
        "print(capital)"
      ],
      "metadata": {
        "id": "Secc59y1soKn"
      },
      "execution_count": null,
      "outputs": []
    },
    {
      "cell_type": "code",
      "source": [
        "metade_palavra = a[0:4]\n",
        "print(metade_palavra)"
      ],
      "metadata": {
        "id": "Opg743dnspdF"
      },
      "execution_count": null,
      "outputs": []
    },
    {
      "cell_type": "code",
      "source": [
        "ultimas_letras = a[3:]\n",
        "print(ultimas_letras)"
      ],
      "metadata": {
        "id": "evLziJWBssFN"
      },
      "execution_count": null,
      "outputs": []
    },
    {
      "cell_type": "code",
      "source": [
        "c = a.replace('o', 'a')\n",
        "print(c)"
      ],
      "metadata": {
        "colab": {
          "base_uri": "https://localhost:8080/"
        },
        "id": "NUOXYH3fsx30",
        "outputId": "c05d1f92-acb5-4066-b6b9-7c32def324ad"
      },
      "execution_count": null,
      "outputs": [
        {
          "output_type": "stream",
          "name": "stdout",
          "text": [
            "casaca\n"
          ]
        }
      ]
    },
    {
      "cell_type": "code",
      "source": [
        "print(len(c))"
      ],
      "metadata": {
        "id": "pkCPIGA_s7al"
      },
      "execution_count": null,
      "outputs": []
    },
    {
      "cell_type": "markdown",
      "source": [
        "## Exercícios\n",
        "\n",
        "Ler dois números inteiros, executar e mostrar o resultado das seguintes operações: adição, subtração, multiplicação e divisão"
      ],
      "metadata": {
        "id": "7Dlhm75TtG0k"
      }
    },
    {
      "cell_type": "code",
      "source": [
        "a = int(input('Digite o primeiro número: '))\n",
        "b = int(input('Digite o segundo número: '))\n",
        "\n",
        "print(f'A soma de {a} + {b} é: {a + b}')\n",
        "print(f'A subtração de {a} - {b} é: {a - b}')\n",
        "print(f'A multiplicação de {a} * {b} é: {a * b}')\n",
        "print(f'A divisão de {a} / {b} é: {a / b}')"
      ],
      "metadata": {
        "id": "_qlThjNGtbLp"
      },
      "execution_count": null,
      "outputs": []
    },
    {
      "cell_type": "markdown",
      "source": [
        "Efetuar o cálculo da quantidade de litros de combustível gasto em uma viagem, utilizando um automóvel que faz 12 Km por litro. Para obter o cálculo, o usuário deve fornecer o tempo gasto na viagem e a velocidade média durante ela. Desta forma, será possível obter a distância percorrida com a fórmula DISTANCIA = TEMPO * VELOCIDADE. Tendo o valor da distância, basta calcular a quantidade de litros de combustível utilizada na viagem, com a fórmula: LITROS_USADOS = DISTANCIA / 12. O programa deve apresentar os valores da velocidade média, tempo gasto na viagem, a distância percorrida e a quantidade de litros utilizada na viagem"
      ],
      "metadata": {
        "id": "SwsixcSFtcqO"
      }
    },
    {
      "cell_type": "code",
      "source": [
        "tempo = float(input('Digite o tempo gasto na viagem: '))\n",
        "velocidade = float(input('Digite a velocidade média durante a viagem: '))\n",
        "\n",
        "distancia = tempo * velocidade\n",
        "litros = distancia / 12\n",
        "\n",
        "print(f'A velocidade média é: {velocidade} km/h')\n",
        "print(f'O tempo gasto na viagem é: {tempo} horas')\n",
        "print(f'A distância percorrida é: {distancia} km')\n",
        "print(f'A quantidade de litros utilizada na viagem é: {round(litros, 1)} litros')"
      ],
      "metadata": {
        "id": "VVw083wztefb"
      },
      "execution_count": null,
      "outputs": []
    }
  ]
}