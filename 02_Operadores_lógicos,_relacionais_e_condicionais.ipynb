{
  "nbformat": 4,
  "nbformat_minor": 0,
  "metadata": {
    "colab": {
      "provenance": [],
      "authorship_tag": "ABX9TyND82CZrLgLJj1RvtCc3oix"
    },
    "kernelspec": {
      "name": "python3",
      "display_name": "Python 3"
    },
    "language_info": {
      "name": "python"
    }
  },
  "cells": [
    {
      "cell_type": "markdown",
      "source": [
        "## Operadores lógicos e relacionais"
      ],
      "metadata": {
        "id": "S3Io42p4uIu2"
      }
    },
    {
      "cell_type": "code",
      "execution_count": null,
      "metadata": {
        "id": "z_ymhmsttmjs"
      },
      "outputs": [],
      "source": [
        "a = True\n",
        "b = False\n",
        "a and b"
      ]
    },
    {
      "cell_type": "code",
      "source": [
        "a or b"
      ],
      "metadata": {
        "id": "SSTgcbGIuPTj"
      },
      "execution_count": null,
      "outputs": []
    },
    {
      "cell_type": "code",
      "source": [
        "5 == 3"
      ],
      "metadata": {
        "id": "80e63f_FuUoS"
      },
      "execution_count": null,
      "outputs": []
    },
    {
      "cell_type": "code",
      "source": [
        "5 != 3"
      ],
      "metadata": {
        "id": "uNCnRtjguV_9"
      },
      "execution_count": null,
      "outputs": []
    },
    {
      "cell_type": "markdown",
      "source": [
        "## Operador condicional"
      ],
      "metadata": {
        "id": "lG3i7j5-ud2l"
      }
    },
    {
      "cell_type": "code",
      "source": [
        "if 5 > 4:\n",
        "  print('5 é maior')\n",
        "else:\n",
        "  print('5 não é maior')"
      ],
      "metadata": {
        "id": "jWYrAFY4ufZM"
      },
      "execution_count": null,
      "outputs": []
    },
    {
      "cell_type": "markdown",
      "source": [
        "## Exercícios\n",
        "\n",
        "1. Leia a idade do usuário e classifique-o em:\n",
        "- Criança – 0 a 12 anos\n",
        "- Adolescente – 13 a 17 anos\n",
        "- Adulto – acima de 18 anos\n",
        "-Se o usuário digitar um número negativo, mostrar a mensagem que a idade é inválida"
      ],
      "metadata": {
        "id": "nmErFkZcuiMy"
      }
    },
    {
      "cell_type": "code",
      "source": [
        "idade = int(input('Digite a idade: '))\n",
        "if idade >=0 and idade <= 12:\n",
        "  print ('Criança')\n",
        "elif idade > 12 and idade < 18:\n",
        "    print ('Adolescente')\n",
        "elif idade >=18:\n",
        "      print ('Adulto')\n",
        "else:\n",
        "      print('Idade inválida')"
      ],
      "metadata": {
        "id": "wgSbhqf-uoEc"
      },
      "execution_count": null,
      "outputs": []
    },
    {
      "cell_type": "markdown",
      "source": [
        "2. Calcular a média de um aluno que cursou a disciplina de Programação I, a partir da leitura das notas M1, M2 e M3; passando por um cálculo da média aritmética. Após a média calculada, devemos anunciar se o aluno foi aprovado, reprovado ou pegou exame\n",
        "- Se a média estiver entre 0.0 e 4.0, o aluno está reprovado\n",
        "- Se a média estiver entre 4.1 e 6.0, o aluno pegou exame\n",
        "- Se a média for maior do que 6.0, o aluno está aprovado\n",
        "- Se o aluno pegou exame, deve ser lida a nota do exame. Se a nota do exame for maior do que 6.0, está aprovado, senão; está reprovado2"
      ],
      "metadata": {
        "id": "UKTqy__suolb"
      }
    },
    {
      "cell_type": "code",
      "source": [
        "M1 = float(input('Digite a nota da M1: '))\n",
        "M2 = float(input('Digite a nota da M2: '))\n",
        "M3 = float(input('Digite a nota da M3: '))\n",
        "media = (M1 + M2 + M3) / 3\n",
        "if media <= 4:\n",
        "  print(f'A média do aluno foi {round(media,1)} e o aluno está reprovado')\n",
        "else:\n",
        "  if media > 4 and media <=6:\n",
        "    print(f'A média do aluno foi {round(media,1)} e o aluno está de recuperação')\n",
        "    exame = float(input('Digite a nota do exame: '))\n",
        "    if exame > 6:\n",
        "      print('O aluno foi aprovado')\n",
        "    else:\n",
        "      print('O aluno foi reprovado')\n",
        "  else:\n",
        "    print(f'A média do aluno foi {round(media,1)} e o aluno está aprovado')"
      ],
      "metadata": {
        "id": "ECO5ZMQWuqrr"
      },
      "execution_count": null,
      "outputs": []
    }
  ]
}