{
  "nbformat": 4,
  "nbformat_minor": 0,
  "metadata": {
    "colab": {
      "provenance": [],
      "authorship_tag": "ABX9TyNTm0rFVGZkST196zDygINH"
    },
    "kernelspec": {
      "name": "python3",
      "display_name": "Python 3"
    },
    "language_info": {
      "name": "python"
    }
  },
  "cells": [
    {
      "cell_type": "markdown",
      "source": [
        "# Tratamento de erros e exceções\n",
        "\n",
        "- NameError: variável nao foi definida\n",
        "- TypeError: tipos de dados incompatíveis\n",
        "- RuntimeError: erro de execução\n",
        "- SyntaxError: sintaxe digitada é inválida e não reconhecida pelo interpretador\n",
        "- ZeroDivisionError: divisão por zero\n",
        "- IndexError: índice está fora da coleção\n",
        "\n",
        "# Tratamento de erros"
      ],
      "metadata": {
        "id": "jN4-DG8nRa8b"
      }
    },
    {
      "cell_type": "code",
      "execution_count": 1,
      "metadata": {
        "colab": {
          "base_uri": "https://localhost:8080/"
        },
        "id": "um4N6M-IRPfV",
        "outputId": "83dd2055-a9f0-4c82-db5c-5ed35419158d"
      },
      "outputs": [
        {
          "output_type": "stream",
          "name": "stdout",
          "text": [
            "Digite um número inteiro: a\n",
            "Valor inválido\n"
          ]
        }
      ],
      "source": [
        "# mensagem para quando o usuario digita um valor invalido\n",
        "try:\n",
        "  n = int(input('Digite um número inteiro: '))\n",
        "except:\n",
        "  print('Valor inválido')\n",
        "else:\n",
        "  print(f'Valor digitado é {n}')"
      ]
    },
    {
      "cell_type": "code",
      "source": [
        "# looping até o usuario dar um valor válido\n",
        "while True:\n",
        "  try:\n",
        "    n = int(input('Digite um número inteiro: '))\n",
        "  except:\n",
        "    print('Valor inválido')\n",
        "  else:\n",
        "    print(f'Valor digitado é {n}')\n",
        "    break"
      ],
      "metadata": {
        "colab": {
          "base_uri": "https://localhost:8080/"
        },
        "id": "lrcI2eKpRuwL",
        "outputId": "9002f7f5-143d-4934-ff1f-b725a63ca6b2"
      },
      "execution_count": 2,
      "outputs": [
        {
          "output_type": "stream",
          "name": "stdout",
          "text": [
            "Digite um número inteiro: a\n",
            "Valor inválido\n",
            "Digite um número inteiro: 1\n",
            "Valor digitado é 1\n"
          ]
        }
      ]
    },
    {
      "cell_type": "code",
      "source": [
        "# considerando o erro gerado quando o usuario interrompe a execução\n",
        "while True:\n",
        "  try:\n",
        "    p = int(input('Digite um número inteiro'))\n",
        "  except ValueError:\n",
        "    print('Valor inválido')\n",
        "  except KeyboardInterrupt:\n",
        "    print('Usuário interrompeu a execução')\n",
        "    break\n",
        "  else:\n",
        "    print(f'Valor digitado é {p}')\n",
        "    break"
      ],
      "metadata": {
        "id": "VrwEv5BIR6rg"
      },
      "execution_count": null,
      "outputs": []
    },
    {
      "cell_type": "markdown",
      "source": [
        "# Exercícios\n",
        "\n",
        "Crie uma lista vazia e faça a leitura de dois valores do tipo float, colocando cada um dos valores nas primeiras posições da lista (o valor1 ficará na posição 0 da lista e o valor2 ficará na posição 1 da lista). Faça a divisão dos dois valores e trate as seguintes exceções\n",
        "\n",
        "ValueError: se o usuário digitar um caracter\n",
        "\n",
        "ZeroDivisionError: se o usuário digitar zero e ocorrer erro na divisão\n",
        "\n",
        "IndexError: caso a divisão seja feita levando em consideração posições que não existem na lista\n",
        "\n",
        "KeyboardInterrupt: caso o usuário interrompa a execução\n",
        "\n",
        "Mostra uma mensagem personalizada na ocorrência de cada um desses erros"
      ],
      "metadata": {
        "id": "mI6LKP3WR_DX"
      }
    },
    {
      "cell_type": "code",
      "source": [
        "lista = []\n",
        "try:\n",
        "  lista.append(float(input('Digite o primeiro valor: ')))\n",
        "  lista.append(float(input('Digite o segundo valor: ')))\n",
        "  divisao = lista[0] / lista[1]\n",
        "except ValueError:\n",
        "  print('Valor inválido')\n",
        "except ZeroDivisionError:\n",
        "  print('Não é possível dividir por zero')\n",
        "except IndexError:\n",
        "  print('Posição inválida na lista')\n",
        "except KeyboardInterrupt:\n",
        "  print('Usuário interrompeu a execução')\n",
        "else:\n",
        "  print(f'O valor da divisão de {lista[0]} por {lista[1]} é {divisao}.')"
      ],
      "metadata": {
        "colab": {
          "base_uri": "https://localhost:8080/"
        },
        "id": "MfsOPIJUU5_-",
        "outputId": "3f631297-9f24-4075-e5a8-479d972c94ac"
      },
      "execution_count": 9,
      "outputs": [
        {
          "output_type": "stream",
          "name": "stdout",
          "text": [
            "Digite o primeiro valor: 10\n",
            "Digite o segundo valor: a\n",
            "Valor inválido\n"
          ]
        }
      ]
    }
  ]
}