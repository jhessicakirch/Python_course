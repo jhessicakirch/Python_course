{
  "nbformat": 4,
  "nbformat_minor": 0,
  "metadata": {
    "colab": {
      "provenance": [],
      "authorship_tag": "ABX9TyMlL4sme9OFsH5yjm5KvIRD"
    },
    "kernelspec": {
      "name": "python3",
      "display_name": "Python 3"
    },
    "language_info": {
      "name": "python"
    }
  },
  "cells": [
    {
      "cell_type": "markdown",
      "source": [
        "##Biblioteca math\n",
        "\n",
        "https://docs.python.org/3/library/math.html"
      ],
      "metadata": {
        "id": "TW_tgEkzBYzP"
      }
    },
    {
      "cell_type": "code",
      "execution_count": 2,
      "metadata": {
        "id": "BDOmR9iwBT3m"
      },
      "outputs": [],
      "source": [
        "import math"
      ]
    },
    {
      "cell_type": "code",
      "source": [
        "math.sqrt(9)"
      ],
      "metadata": {
        "colab": {
          "base_uri": "https://localhost:8080/"
        },
        "id": "tj4OXjc1Bdvx",
        "outputId": "aa5d9eb7-dd90-4fbc-8cfd-e360dcf6c926"
      },
      "execution_count": 3,
      "outputs": [
        {
          "output_type": "execute_result",
          "data": {
            "text/plain": [
              "3.0"
            ]
          },
          "metadata": {},
          "execution_count": 3
        }
      ]
    },
    {
      "cell_type": "markdown",
      "source": [
        "##Biblioteca datetime\n",
        "\n",
        "https://docs.python.org/3/library/datetime.html"
      ],
      "metadata": {
        "id": "pN_-FNU5BoWU"
      }
    },
    {
      "cell_type": "code",
      "source": [
        "import datetime"
      ],
      "metadata": {
        "id": "R5X9ezKcBxjU"
      },
      "execution_count": 5,
      "outputs": []
    },
    {
      "cell_type": "code",
      "source": [
        "# Data de agora\n",
        "datetime.date.today()"
      ],
      "metadata": {
        "colab": {
          "base_uri": "https://localhost:8080/"
        },
        "id": "FT9hIaIDB1zN",
        "outputId": "cc363819-c11d-4d1a-d7be-9c477cd8fc03"
      },
      "execution_count": 6,
      "outputs": [
        {
          "output_type": "execute_result",
          "data": {
            "text/plain": [
              "datetime.datetime(2024, 11, 13, 19, 37, 41, 695757)"
            ]
          },
          "metadata": {},
          "execution_count": 6
        }
      ]
    },
    {
      "cell_type": "code",
      "source": [
        "# Horário de agora (no servidor do Google que esta executando)\n",
        "datetime.datetime.now()"
      ],
      "metadata": {
        "id": "ihM1LwpkCDyN"
      },
      "execution_count": null,
      "outputs": []
    },
    {
      "cell_type": "code",
      "source": [
        "# Extrair dia, mes e ano\n",
        "data = datetime.date(2024, 11, 13)\n",
        "data.day"
      ],
      "metadata": {
        "colab": {
          "base_uri": "https://localhost:8080/"
        },
        "id": "hwzZF5MZCff0",
        "outputId": "22129c4b-9314-41e0-a5f7-dca41af1d791"
      },
      "execution_count": 7,
      "outputs": [
        {
          "output_type": "execute_result",
          "data": {
            "text/plain": [
              "7"
            ]
          },
          "metadata": {},
          "execution_count": 7
        }
      ]
    },
    {
      "cell_type": "code",
      "source": [
        "data.month"
      ],
      "metadata": {
        "id": "tczSzCk5CpDY"
      },
      "execution_count": null,
      "outputs": []
    },
    {
      "cell_type": "code",
      "source": [
        "data.year"
      ],
      "metadata": {
        "colab": {
          "base_uri": "https://localhost:8080/"
        },
        "id": "w_XD365DCpxE",
        "outputId": "1f59c96e-34be-43e8-b2c8-9078f06bb6ec"
      },
      "execution_count": 8,
      "outputs": [
        {
          "output_type": "execute_result",
          "data": {
            "text/plain": [
              "2020"
            ]
          },
          "metadata": {},
          "execution_count": 8
        }
      ]
    },
    {
      "cell_type": "code",
      "source": [
        "# Extrair hora, minutos e segundos\n",
        "horario = datetime.datetime(2024, 11, 13, 16, 41, 0)\n",
        "horario.hour\n",
        "# horario.minute\n",
        "# horario.second"
      ],
      "metadata": {
        "colab": {
          "base_uri": "https://localhost:8080/"
        },
        "id": "SSJcZEl-CuFs",
        "outputId": "ec836d32-370f-4c89-deb0-82d3e5a407e5"
      },
      "execution_count": 10,
      "outputs": [
        {
          "output_type": "execute_result",
          "data": {
            "text/plain": [
              "16"
            ]
          },
          "metadata": {},
          "execution_count": 10
        }
      ]
    },
    {
      "cell_type": "markdown",
      "source": [
        "##Biblioteca random\n",
        "\n",
        "https://docs.python.org/3/library/random.html"
      ],
      "metadata": {
        "id": "j5Y_El1gDHH0"
      }
    },
    {
      "cell_type": "code",
      "source": [
        "import random"
      ],
      "metadata": {
        "id": "eRuNDeOMDJCz"
      },
      "execution_count": 11,
      "outputs": []
    },
    {
      "cell_type": "code",
      "source": [
        "# números aleatórios entre 0 e 1\n",
        "random.random()"
      ],
      "metadata": {
        "colab": {
          "base_uri": "https://localhost:8080/"
        },
        "id": "XpfT0w-_DLX2",
        "outputId": "56de6015-8b31-45af-eeb6-9ab107dadc7c"
      },
      "execution_count": 13,
      "outputs": [
        {
          "output_type": "execute_result",
          "data": {
            "text/plain": [
              "0.681835580417589"
            ]
          },
          "metadata": {},
          "execution_count": 13
        }
      ]
    },
    {
      "cell_type": "code",
      "source": [
        "# número aleatórios em uma faixa\n",
        "random.randint(1, 10)"
      ],
      "metadata": {
        "colab": {
          "base_uri": "https://localhost:8080/"
        },
        "id": "nv2YeQjiDZkk",
        "outputId": "a64b6898-b9fb-4ff0-dac2-3fdc8ddf5fca"
      },
      "execution_count": 14,
      "outputs": [
        {
          "output_type": "execute_result",
          "data": {
            "text/plain": [
              "4"
            ]
          },
          "metadata": {},
          "execution_count": 14
        }
      ]
    },
    {
      "cell_type": "code",
      "source": [
        "# números pares\n",
        "random.randrange(0, 10, 2)"
      ],
      "metadata": {
        "colab": {
          "base_uri": "https://localhost:8080/"
        },
        "id": "fDNXnK0gDsRU",
        "outputId": "3de7dfbf-08ef-49df-b5c4-2e568c1b903d"
      },
      "execution_count": 15,
      "outputs": [
        {
          "output_type": "execute_result",
          "data": {
            "text/plain": [
              "8"
            ]
          },
          "metadata": {},
          "execution_count": 15
        }
      ]
    },
    {
      "cell_type": "code",
      "source": [
        "# números impares\n",
        "random.randrange(1, 10, 3)"
      ],
      "metadata": {
        "colab": {
          "base_uri": "https://localhost:8080/"
        },
        "id": "TrRn3688Dypp",
        "outputId": "988cb235-46f8-400a-cd63-cb29e9d4b31b"
      },
      "execution_count": 16,
      "outputs": [
        {
          "output_type": "execute_result",
          "data": {
            "text/plain": [
              "7"
            ]
          },
          "metadata": {},
          "execution_count": 16
        }
      ]
    },
    {
      "cell_type": "code",
      "source": [
        "#sorteio\n",
        "x = ['A', 'C', 12]\n",
        "random.choice(x)"
      ],
      "metadata": {
        "colab": {
          "base_uri": "https://localhost:8080/",
          "height": 36
        },
        "id": "9hv7qQQfEDSC",
        "outputId": "977c450f-fe93-4056-e07b-8154408c7ec9"
      },
      "execution_count": 18,
      "outputs": [
        {
          "output_type": "execute_result",
          "data": {
            "text/plain": [
              "'A'"
            ],
            "application/vnd.google.colaboratory.intrinsic+json": {
              "type": "string"
            }
          },
          "metadata": {},
          "execution_count": 18
        }
      ]
    },
    {
      "cell_type": "markdown",
      "source": [
        "##Biblioteca time\n",
        "\n",
        "https://docs.python.org/3/library/time.html"
      ],
      "metadata": {
        "id": "qmYnAY3GETsk"
      }
    },
    {
      "cell_type": "code",
      "source": [
        "# importei e dei um apelido para precisar digitar menos\n",
        "import time as tm"
      ],
      "metadata": {
        "id": "b4vSGpmiEY3E"
      },
      "execution_count": 19,
      "outputs": []
    },
    {
      "cell_type": "code",
      "source": [
        "#tempo de execução\n",
        "tm.time()"
      ],
      "metadata": {
        "colab": {
          "base_uri": "https://localhost:8080/"
        },
        "id": "5F5XEBFfEkDF",
        "outputId": "d406e7f2-2998-4555-b688-1fa9e7399674"
      },
      "execution_count": 20,
      "outputs": [
        {
          "output_type": "execute_result",
          "data": {
            "text/plain": [
              "1731527334.401922"
            ]
          },
          "metadata": {},
          "execution_count": 20
        }
      ]
    },
    {
      "cell_type": "code",
      "source": [
        "# calculando o tempo de execução de um código\n",
        "antes = tm.time()\n",
        "lista = []\n",
        "for i in range(0,10000):\n",
        "  lista.append(i)\n",
        "depois = tm.time()\n",
        "\n",
        "intervalo = depois - antes\n",
        "print(f'Tempo: {intervalo} segundos')"
      ],
      "metadata": {
        "colab": {
          "base_uri": "https://localhost:8080/"
        },
        "id": "FBQnKtNoFDjk",
        "outputId": "d2351af4-e8e6-4435-9124-32d865e0c0b4"
      },
      "execution_count": 21,
      "outputs": [
        {
          "output_type": "stream",
          "name": "stdout",
          "text": [
            "Tempo: 0.0015766620635986328 segundos\n"
          ]
        }
      ]
    },
    {
      "cell_type": "code",
      "source": [
        "#Enviando mensagem e esperando um tempo entre ela\n",
        "print('Finalizando...')\n",
        "tm.sleep(1)\n",
        "print('...')\n",
        "tm.sleep(1)\n",
        "print('...')\n",
        "tm.sleep(1)\n",
        "print('Até a próxima')"
      ],
      "metadata": {
        "colab": {
          "base_uri": "https://localhost:8080/"
        },
        "id": "KUeE-EqXFMJ2",
        "outputId": "d978ef4e-6303-4369-b3e2-6d60890a00e4"
      },
      "execution_count": 24,
      "outputs": [
        {
          "output_type": "stream",
          "name": "stdout",
          "text": [
            "Finalizando...\n",
            "...\n",
            "...\n",
            "Até a próxima\n"
          ]
        }
      ]
    },
    {
      "cell_type": "markdown",
      "source": [
        "## Criação de módulos personalizados\n",
        "\n",
        "criar um função pelo Spyder e importar na faixa lateral do Google Colab, em files.\n",
        "\n",
        "Em seguida importar e pode utilizar"
      ],
      "metadata": {
        "id": "KE8ESNHXFgct"
      }
    },
    {
      "cell_type": "code",
      "source": [
        "import utilitarios as ut"
      ],
      "metadata": {
        "id": "iXM6GHcEI1YZ"
      },
      "execution_count": 25,
      "outputs": []
    },
    {
      "cell_type": "code",
      "source": [
        "ut.soma(1,2,3)"
      ],
      "metadata": {
        "colab": {
          "base_uri": "https://localhost:8080/"
        },
        "id": "zdIJeLcgI4jU",
        "outputId": "b6b87f01-db17-4824-f0b7-2e6b5c0fd7fa"
      },
      "execution_count": 26,
      "outputs": [
        {
          "output_type": "execute_result",
          "data": {
            "text/plain": [
              "6"
            ]
          },
          "metadata": {},
          "execution_count": 26
        }
      ]
    },
    {
      "cell_type": "markdown",
      "source": [
        "## Exercício\n",
        "\n",
        "Crie um arquivo .py com duas funções\n",
        "- Função para ler um string (recebe como parâmetro uma mensagem e retorna o que o usuário digitou)\n",
        "- Função para ler um número float (recebe como parâmetro uma mensagem e retorna o que o usuário digitou)\n",
        "\n",
        "\n",
        "\n",
        "Importar o arquivo criado no Google Colab e testar as funções"
      ],
      "metadata": {
        "id": "p3zyqa7OI_tf"
      }
    },
    {
      "cell_type": "code",
      "source": [
        "import exerciciomodulo as em"
      ],
      "metadata": {
        "id": "TAapmTFbKV0v"
      },
      "execution_count": 27,
      "outputs": []
    },
    {
      "cell_type": "code",
      "source": [
        "texto = em.texto('Digite o seu nome: ')\n",
        "print(texto)"
      ],
      "metadata": {
        "colab": {
          "base_uri": "https://localhost:8080/"
        },
        "id": "ZXxibN4TKZrw",
        "outputId": "2a026563-0cc3-4896-e84e-620b7444e3ac"
      },
      "execution_count": 32,
      "outputs": [
        {
          "output_type": "stream",
          "name": "stdout",
          "text": [
            "Digite o seu nome: Jhes\n",
            "Jhes\n"
          ]
        }
      ]
    },
    {
      "cell_type": "code",
      "source": [
        "em.numero('Digite seu peso: ')"
      ],
      "metadata": {
        "colab": {
          "base_uri": "https://localhost:8080/"
        },
        "id": "KHZdtZA9K38o",
        "outputId": "992f6f4b-ed80-46c6-8508-ef90820fd327"
      },
      "execution_count": 31,
      "outputs": [
        {
          "name": "stdout",
          "output_type": "stream",
          "text": [
            "Digite sua idade: 29\n"
          ]
        },
        {
          "output_type": "execute_result",
          "data": {
            "text/plain": [
              "29.0"
            ]
          },
          "metadata": {},
          "execution_count": 31
        }
      ]
    }
  ]
}