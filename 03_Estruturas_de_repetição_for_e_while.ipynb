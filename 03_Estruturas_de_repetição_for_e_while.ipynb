{
  "nbformat": 4,
  "nbformat_minor": 0,
  "metadata": {
    "colab": {
      "provenance": [],
      "authorship_tag": "ABX9TyOpxvP0q6LjGjgZa5inmGzh"
    },
    "kernelspec": {
      "name": "python3",
      "display_name": "Python 3"
    },
    "language_info": {
      "name": "python"
    }
  },
  "cells": [
    {
      "cell_type": "markdown",
      "source": [
        "# Estruturas de repetição - for"
      ],
      "metadata": {
        "id": "qyLFF1AivWrG"
      }
    },
    {
      "cell_type": "code",
      "execution_count": null,
      "metadata": {
        "id": "zt_G-iSkvRan"
      },
      "outputs": [],
      "source": [
        "for numero in range(1, 6):\n",
        "  print(numero)"
      ]
    },
    {
      "cell_type": "code",
      "source": [
        "for numero in range(5, 0, -1):\n",
        "  print(numero)"
      ],
      "metadata": {
        "id": "MOzg2jF0vc2k"
      },
      "execution_count": null,
      "outputs": []
    },
    {
      "cell_type": "markdown",
      "source": [
        "# Estruturas de repetição - while"
      ],
      "metadata": {
        "id": "X3JP1SYSvjdi"
      }
    },
    {
      "cell_type": "code",
      "source": [
        "numero = 1\n",
        "while numero < 6:\n",
        "  print(numero)\n",
        "  numero += 1\n",
        "print('---')"
      ],
      "metadata": {
        "id": "FsnW0wpbvgHM"
      },
      "execution_count": null,
      "outputs": []
    },
    {
      "cell_type": "code",
      "source": [
        "numero = 5\n",
        "while numero > 0:\n",
        "  print(numero)\n",
        "  numero -= 1"
      ],
      "metadata": {
        "id": "9VpiEsBzvrlZ"
      },
      "execution_count": null,
      "outputs": []
    },
    {
      "cell_type": "code",
      "source": [
        "numero = 12\n",
        "while numero < 1 or numero > 10:\n",
        "  numero = int(input('Digite um número de 1 a 10: '))"
      ],
      "metadata": {
        "id": "jmCpKZ3yvuOi"
      },
      "execution_count": null,
      "outputs": []
    },
    {
      "cell_type": "markdown",
      "source": [
        "**Exercícios**\n",
        "\n",
        "Implemente cada exercício utilizando tanto o for quanto o while\n",
        "\n",
        "1. Ler 5 notas e informar a média"
      ],
      "metadata": {
        "id": "pxESmUSTvwT6"
      }
    },
    {
      "cell_type": "code",
      "source": [
        "media = nota = soma = 0\n",
        "for i in range(1, 6):\n",
        "  nota = float(input(f'Digite a nota da {i}ª prova: '))\n",
        "  soma += nota\n",
        "media = soma / 5\n",
        "print(f'A média final do aluno foi {media}')"
      ],
      "metadata": {
        "id": "_6j85asEvyDF"
      },
      "execution_count": null,
      "outputs": []
    },
    {
      "cell_type": "code",
      "source": [
        "numero = 1\n",
        "nota = soma = 0\n",
        "while numero < 6:\n",
        "  nota = float(input(f'Digite a nota da {numero}ª prova: '))\n",
        "  soma += nota\n",
        "  numero += 1\n",
        "print(f'A média final do aluno foi {soma / 5}')"
      ],
      "metadata": {
        "id": "nHswL4LTvzyh"
      },
      "execution_count": null,
      "outputs": []
    },
    {
      "cell_type": "markdown",
      "source": [
        "2. Imprimir a tabuada do número 3 (3 x 1 = 3 ; 3 x 10 = 30)"
      ],
      "metadata": {
        "id": "2atN5CUZv2I0"
      }
    },
    {
      "cell_type": "code",
      "source": [
        "for i in range(1, 11):\n",
        "  print('3 x {} = {}'.format(i, 3 * i))"
      ],
      "metadata": {
        "id": "R8nLKMjAv3UZ"
      },
      "execution_count": null,
      "outputs": []
    },
    {
      "cell_type": "code",
      "source": [
        "numero = 1\n",
        "while numero < 11:\n",
        "  print(f'3 x {numero} = {3 * numero}')\n",
        "  numero += 1"
      ],
      "metadata": {
        "id": "S3x9pLmqv4cq"
      },
      "execution_count": null,
      "outputs": []
    }
  ]
}