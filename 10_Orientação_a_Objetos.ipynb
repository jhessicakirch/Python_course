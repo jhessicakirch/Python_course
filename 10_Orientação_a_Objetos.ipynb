{
  "nbformat": 4,
  "nbformat_minor": 0,
  "metadata": {
    "colab": {
      "provenance": [],
      "authorship_tag": "ABX9TyPmK65bewcmEcxb5wOgkBSk"
    },
    "kernelspec": {
      "name": "python3",
      "display_name": "Python 3"
    },
    "language_info": {
      "name": "python"
    }
  },
  "cells": [
    {
      "cell_type": "code",
      "execution_count": 11,
      "metadata": {
        "id": "CY-Rynsj2jZG"
      },
      "outputs": [],
      "source": [
        "#Criando a classe triângulo\n",
        "class Triangulo:\n",
        "  def __init__(self, lado1, lado2, lado3, base, altura):\n",
        "    self.lado1 = lado1\n",
        "    self.lado2 = lado2\n",
        "    self.lado3 = lado3\n",
        "    self.base = base\n",
        "    self.altura = altura\n",
        "\n",
        "  def area(self):\n",
        "    return (self.base * self.altura) / 2\n",
        "\n",
        "  def tipo(self):\n",
        "    if self.lado1 == self.lado2 or self.lado2 == self.lado3 or self.lado1 == self.lado3:\n",
        "      return \"Isósceles\"\n",
        "    else:\n",
        "      return \"Outro tipo de triângulo\""
      ]
    },
    {
      "cell_type": "code",
      "source": [
        "# Criando o objeto t1 da classe Triangulo\n",
        "t1 = Triangulo(3, 4, 5, 10, 2)\n",
        "print(t1.lado1)"
      ],
      "metadata": {
        "colab": {
          "base_uri": "https://localhost:8080/"
        },
        "id": "oTxOYpx62yRD",
        "outputId": "dadebc70-d148-4bf1-ade2-a37d65fa8f58"
      },
      "execution_count": 14,
      "outputs": [
        {
          "output_type": "stream",
          "name": "stdout",
          "text": [
            "3\n"
          ]
        }
      ]
    },
    {
      "cell_type": "code",
      "source": [
        "# verificando a área\n",
        "t1.area()"
      ],
      "metadata": {
        "colab": {
          "base_uri": "https://localhost:8080/"
        },
        "id": "a9yTfVZD3N5L",
        "outputId": "5c407c89-f780-49d7-8e91-c1bf8efa6f0a"
      },
      "execution_count": 8,
      "outputs": [
        {
          "output_type": "execute_result",
          "data": {
            "text/plain": [
              "10.0"
            ]
          },
          "metadata": {},
          "execution_count": 8
        }
      ]
    },
    {
      "cell_type": "code",
      "source": [
        "#verificando o tipo\n",
        "t1.tipo()"
      ],
      "metadata": {
        "colab": {
          "base_uri": "https://localhost:8080/",
          "height": 36
        },
        "id": "rMag9CZC3m97",
        "outputId": "00fd589b-d12b-4c37-d85b-4af95ad26d62"
      },
      "execution_count": 58,
      "outputs": [
        {
          "output_type": "execute_result",
          "data": {
            "text/plain": [
              "'Outro tipo de triângulo'"
            ],
            "application/vnd.google.colaboratory.intrinsic+json": {
              "type": "string"
            }
          },
          "metadata": {},
          "execution_count": 58
        }
      ]
    },
    {
      "cell_type": "markdown",
      "source": [
        "## Exercícios\n",
        "\n",
        "Crie uma classe chamada aluno com os seguintes atributos:\n",
        "\n",
        "- Nome\n",
        "- Nota 1\n",
        "- Nota 2\n",
        "- Crie um construtor para a classe (__init__)\n",
        "\n",
        "Crie as seguintes funções (métodos):\n",
        "\n",
        "- Calcula média, retornando a média aritmética entre as notas\n",
        "- Mostra dados, que somente imprime o valor de todos os atributos\n",
        "- Resultado, que verifica se o aluno está aprovado ou reprovado (se a média for maior ou igual a 6.0, o aluno está aprovado)\n",
        "\n",
        "Crie dois objetos (aluno1 e aluno2) e teste as funções"
      ],
      "metadata": {
        "id": "dIAA9gzd3zMj"
      }
    },
    {
      "cell_type": "code",
      "source": [
        "class Alunos:\n",
        "  def __init__(self, nome, nota1, nota2):\n",
        "    self.nome = nome\n",
        "    self.nota1 = nota1\n",
        "    self.nota2 = nota2\n",
        "\n",
        "  def media(self):\n",
        "    return (self.nota1 + self.nota2) / 2\n",
        "\n",
        "  def mostra(self):\n",
        "    print(f' Nome = {self.nome} \\n Nota 1 = {self.nota1} \\n Nota 2 = {self.nota2}')\n",
        "\n",
        "  def resultado(self):\n",
        "    if self.media() >= 6:\n",
        "      print(f'O(a) aluno(a) {self.nome} foi aprovado com média {self.media()}')\n",
        "    else:\n",
        "      print(f'O(a) aluno(a) {self.nome} foi reprovado com média {self.media()}')"
      ],
      "metadata": {
        "id": "OBmWqpNs36yq"
      },
      "execution_count": 53,
      "outputs": []
    },
    {
      "cell_type": "code",
      "source": [
        "aluno1 = Alunos(\"João\", 10, 9)\n",
        "print (aluno1.nome)"
      ],
      "metadata": {
        "colab": {
          "base_uri": "https://localhost:8080/"
        },
        "id": "xG6cMqat4JlU",
        "outputId": "582ed18c-8d16-42ff-edbc-3a0e4cfd0dc8"
      },
      "execution_count": 59,
      "outputs": [
        {
          "output_type": "stream",
          "name": "stdout",
          "text": [
            "João\n"
          ]
        }
      ]
    },
    {
      "cell_type": "code",
      "source": [
        "aluno1.media()"
      ],
      "metadata": {
        "colab": {
          "base_uri": "https://localhost:8080/"
        },
        "id": "WVwjLqyL4ivt",
        "outputId": "36c4aaf6-b8ff-48da-9f32-9ce642724515"
      },
      "execution_count": 45,
      "outputs": [
        {
          "output_type": "execute_result",
          "data": {
            "text/plain": [
              "9.5"
            ]
          },
          "metadata": {},
          "execution_count": 45
        }
      ]
    },
    {
      "cell_type": "code",
      "source": [
        "aluno1.mostra()"
      ],
      "metadata": {
        "colab": {
          "base_uri": "https://localhost:8080/"
        },
        "id": "WH8wVigs40f3",
        "outputId": "78b6aa76-852b-48a1-9c6e-85bfc7277f9b"
      },
      "execution_count": 46,
      "outputs": [
        {
          "output_type": "stream",
          "name": "stdout",
          "text": [
            " Nome = João \n",
            " Nota 1 = 10 \n",
            " Nota 2 = 9\n"
          ]
        }
      ]
    },
    {
      "cell_type": "code",
      "source": [
        "aluno1.resultado()"
      ],
      "metadata": {
        "colab": {
          "base_uri": "https://localhost:8080/"
        },
        "id": "XIUUIFsD5gKz",
        "outputId": "2d143f24-0b5b-43ba-a7b7-340233abc7a7"
      },
      "execution_count": 60,
      "outputs": [
        {
          "output_type": "stream",
          "name": "stdout",
          "text": [
            "O(a) aluno(a) João foi aprovado com média 9.5\n"
          ]
        }
      ]
    },
    {
      "cell_type": "code",
      "source": [
        "aluno2 = Alunos(\"Maria\", 4, 6)"
      ],
      "metadata": {
        "id": "Dj7RMKJZ5shb"
      },
      "execution_count": 54,
      "outputs": []
    },
    {
      "cell_type": "code",
      "source": [
        "aluno2.media()"
      ],
      "metadata": {
        "colab": {
          "base_uri": "https://localhost:8080/"
        },
        "id": "0PzUPyNx5yqR",
        "outputId": "d5378a57-d4cb-49d9-bbd3-0fc66051e055"
      },
      "execution_count": 55,
      "outputs": [
        {
          "output_type": "execute_result",
          "data": {
            "text/plain": [
              "5.0"
            ]
          },
          "metadata": {},
          "execution_count": 55
        }
      ]
    },
    {
      "cell_type": "code",
      "source": [
        "aluno2.mostra()"
      ],
      "metadata": {
        "colab": {
          "base_uri": "https://localhost:8080/"
        },
        "id": "y6P084fD52g0",
        "outputId": "d6237019-b3c4-4394-8210-6aa5aa8e4f6d"
      },
      "execution_count": 56,
      "outputs": [
        {
          "output_type": "stream",
          "name": "stdout",
          "text": [
            " Nome = Maria \n",
            " Nota 1 = 4 \n",
            " Nota 2 = 6\n"
          ]
        }
      ]
    },
    {
      "cell_type": "code",
      "source": [
        "aluno2.resultado()"
      ],
      "metadata": {
        "colab": {
          "base_uri": "https://localhost:8080/"
        },
        "id": "J2aDOzej55Bl",
        "outputId": "c01c5b81-9dc6-4fa9-ea5d-71d60fc8050d"
      },
      "execution_count": 57,
      "outputs": [
        {
          "output_type": "stream",
          "name": "stdout",
          "text": [
            "O(a) aluno(a) Maria foi reprovado com média 5.0\n"
          ]
        }
      ]
    }
  ]
}