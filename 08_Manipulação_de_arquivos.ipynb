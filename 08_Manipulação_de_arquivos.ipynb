{
  "nbformat": 4,
  "nbformat_minor": 0,
  "metadata": {
    "colab": {
      "provenance": [],
      "authorship_tag": "ABX9TyNBXyiUMEQfLLpfUBC40L5P"
    },
    "kernelspec": {
      "name": "python3",
      "display_name": "Python 3"
    },
    "language_info": {
      "name": "python"
    }
  },
  "cells": [
    {
      "cell_type": "markdown",
      "source": [
        "## Manipulação de arquivos\n",
        "\n",
        "Criar um arquivo .txt e fazer o upload no menu da esquerda."
      ],
      "metadata": {
        "id": "cvla57tO2q7n"
      }
    },
    {
      "cell_type": "code",
      "execution_count": null,
      "metadata": {
        "id": "m7wa7Z5i2ndU"
      },
      "outputs": [],
      "source": [
        "with open('/content/frase1.txt') as tex:\n",
        "  for linha in tex:\n",
        "    print(linha)"
      ]
    },
    {
      "cell_type": "code",
      "source": [
        "# salvando como uma lista\n",
        "with open('/content/frase1.txt') as tex:\n",
        "  r = tex.readlines()"
      ],
      "metadata": {
        "id": "xyWGplPB55k2"
      },
      "execution_count": null,
      "outputs": []
    },
    {
      "cell_type": "code",
      "source": [
        "# criando um arquivo .txt\n",
        "with open('texto2.txt', 'w') as texto:\n",
        "  texto.write('Olá a todos')"
      ],
      "metadata": {
        "id": "ZbGmnH0q5_5V"
      },
      "execution_count": null,
      "outputs": []
    },
    {
      "cell_type": "markdown",
      "source": [
        "## Exercícios\n",
        "\n",
        "Considerando o dicionário com o nome dos alunos e suas respectivas notas abaixo, crie uma estrutura de repetição para percorrer cada elemento do dicionário para gravar cada aluno em um novo arquivo de texto\n",
        "- Cada aluno deve ocupar uma linha do novo arquivo de texto\n",
        "- O formato deve ser: nome,nota (Pedro,8.0)\n",
        "- Após a criação do arquivo de texto, faça a leitura do arquivo e mostre todos os alunos"
      ],
      "metadata": {
        "id": "G28LLyYj6DIH"
      }
    },
    {
      "cell_type": "code",
      "source": [
        "alunos = {'Pedro': 8.0, 'Maria': 10.0, 'Amilton': 7.5}"
      ],
      "metadata": {
        "id": "wydcdiNq93fp"
      },
      "execution_count": 8,
      "outputs": []
    },
    {
      "cell_type": "code",
      "source": [
        "with open('/content/alunos.txt', 'w') as arquivo:\n",
        "  for aluno, nota in alunos.items():\n",
        "    arquivo.write(f'Aluno: {aluno}, nota: {nota}\\n')"
      ],
      "metadata": {
        "id": "32hokOPV7lu1"
      },
      "execution_count": 11,
      "outputs": []
    },
    {
      "cell_type": "code",
      "source": [
        "with open('/content/alunos.txt') as arquivo:\n",
        "  for linha in arquivo:\n",
        "    print(linha)\n"
      ],
      "metadata": {
        "colab": {
          "base_uri": "https://localhost:8080/"
        },
        "id": "gG0KbkEQ6Bs9",
        "outputId": "ee93132b-1f03-4bbc-f29b-5a5d7a68a4cd"
      },
      "execution_count": 12,
      "outputs": [
        {
          "output_type": "stream",
          "name": "stdout",
          "text": [
            "Aluno: Pedro, nota: 8.0\n",
            "\n",
            "Aluno: Maria, nota: 10.0\n",
            "\n",
            "Aluno: Amilton, nota: 7.5\n",
            "\n"
          ]
        }
      ]
    }
  ]
}