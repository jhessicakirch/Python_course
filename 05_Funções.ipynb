{
  "nbformat": 4,
  "nbformat_minor": 0,
  "metadata": {
    "colab": {
      "provenance": [],
      "authorship_tag": "ABX9TyPKzDkFu3RaIie8oYJ3Cl3B"
    },
    "kernelspec": {
      "name": "python3",
      "display_name": "Python 3"
    },
    "language_info": {
      "name": "python"
    }
  },
  "cells": [
    {
      "cell_type": "markdown",
      "source": [
        "## Funções\n",
        "\n",
        "Trechos de programa que recebem um determinado nome e podem ser chamados várias vezes durante a execução\n",
        "\n",
        "Utilizar o def para descrever uma função\n",
        "\n",
        "**Função sem parâmetro**"
      ],
      "metadata": {
        "id": "n2azoeOeOKMX"
      }
    },
    {
      "cell_type": "code",
      "execution_count": 1,
      "metadata": {
        "id": "o8hok639OGqR"
      },
      "outputs": [],
      "source": [
        "def mensagem():\n",
        "  print('Texto da função')"
      ]
    },
    {
      "cell_type": "code",
      "source": [
        "mensagem()"
      ],
      "metadata": {
        "colab": {
          "base_uri": "https://localhost:8080/"
        },
        "id": "ga-iz64uOXkh",
        "outputId": "77ac6dc6-b80f-4e95-be1e-0fd1801bf871"
      },
      "execution_count": 3,
      "outputs": [
        {
          "output_type": "stream",
          "name": "stdout",
          "text": [
            "Texto da função\n"
          ]
        }
      ]
    },
    {
      "cell_type": "markdown",
      "source": [
        "**Função com parâmetro**"
      ],
      "metadata": {
        "id": "T4lZ7wxwOY94"
      }
    },
    {
      "cell_type": "code",
      "source": [
        "def mensagem(texto):\n",
        "  print(texto)"
      ],
      "metadata": {
        "id": "l6UxOn6DObxG"
      },
      "execution_count": 4,
      "outputs": []
    },
    {
      "cell_type": "code",
      "source": [
        "mensagem('Texto1')"
      ],
      "metadata": {
        "colab": {
          "base_uri": "https://localhost:8080/"
        },
        "id": "dmZcm6zEOjGd",
        "outputId": "bc074e6a-4bad-48de-a096-aa9d9e886604"
      },
      "execution_count": 5,
      "outputs": [
        {
          "output_type": "stream",
          "name": "stdout",
          "text": [
            "Texto1\n"
          ]
        }
      ]
    },
    {
      "cell_type": "markdown",
      "source": [
        "**Função com passagem de parâmetros e retorno**"
      ],
      "metadata": {
        "id": "PE8GgIXCOnCA"
      }
    },
    {
      "cell_type": "code",
      "source": [
        "def soma(a, b):\n",
        "  return a + b"
      ],
      "metadata": {
        "id": "NipQuWKgOn1m"
      },
      "execution_count": 6,
      "outputs": []
    },
    {
      "cell_type": "code",
      "source": [
        "r = soma(3, 2)\n",
        "print(r)"
      ],
      "metadata": {
        "colab": {
          "base_uri": "https://localhost:8080/"
        },
        "id": "JN5Nv6i4OsO4",
        "outputId": "e53c7709-3e63-4b2c-fcb0-cd87f275908c"
      },
      "execution_count": 7,
      "outputs": [
        {
          "output_type": "stream",
          "name": "stdout",
          "text": [
            "5\n"
          ]
        }
      ]
    },
    {
      "cell_type": "markdown",
      "source": [
        "Posso descrever a função e utilizar valores 'default'"
      ],
      "metadata": {
        "id": "DmeiQbQzOv-o"
      }
    },
    {
      "cell_type": "code",
      "source": [
        "def calcula_energia_potencial_gravitacional(m, h, g = 10):\n",
        "  '''\n",
        "  Calcula a energia potencial gravitacional\n",
        "  Argumentos:\n",
        "  m: massa, entrada como uma variável float\n",
        "  h: altura, entrada como uma variável float\n",
        "\n",
        "  Argumento opcional:\n",
        "  g: aceleração gravitacional, com valor default de 10\n",
        "  '''\n",
        "  e = g * m * h\n",
        "  return e"
      ],
      "metadata": {
        "id": "SXprG8mcOyWO"
      },
      "execution_count": 8,
      "outputs": []
    },
    {
      "cell_type": "code",
      "source": [
        "calcula_energia_potencial_gravitacional(30, 12)"
      ],
      "metadata": {
        "colab": {
          "base_uri": "https://localhost:8080/"
        },
        "id": "IE3mWoFVPAhg",
        "outputId": "f82487bd-2464-463b-daf7-98b125a3e80e"
      },
      "execution_count": 10,
      "outputs": [
        {
          "output_type": "execute_result",
          "data": {
            "text/plain": [
              "3600"
            ]
          },
          "metadata": {},
          "execution_count": 10
        }
      ]
    },
    {
      "cell_type": "code",
      "source": [
        "calcula_energia_potencial_gravitacional(30, 12, 9.8)"
      ],
      "metadata": {
        "colab": {
          "base_uri": "https://localhost:8080/"
        },
        "id": "6qCkUObTO5Bd",
        "outputId": "8b1ac339-17aa-435b-e4d4-019789cd3dba"
      },
      "execution_count": 11,
      "outputs": [
        {
          "output_type": "execute_result",
          "data": {
            "text/plain": [
              "3528.0"
            ]
          },
          "metadata": {},
          "execution_count": 11
        }
      ]
    },
    {
      "cell_type": "markdown",
      "source": [
        "help"
      ],
      "metadata": {
        "id": "l5vB9dU-O7Zo"
      }
    },
    {
      "cell_type": "code",
      "source": [
        "help(calcula_energia_potencial_gravitacional)"
      ],
      "metadata": {
        "colab": {
          "base_uri": "https://localhost:8080/"
        },
        "id": "SHUVBMR9O66X",
        "outputId": "3e473431-0db1-4097-f7b4-a26314be35be"
      },
      "execution_count": 12,
      "outputs": [
        {
          "output_type": "stream",
          "name": "stdout",
          "text": [
            "Help on function calcula_energia_potencial_gravitacional in module __main__:\n",
            "\n",
            "calcula_energia_potencial_gravitacional(m, h, g=10)\n",
            "    Calcula a energia potencial gravitacional\n",
            "    Argumentos:\n",
            "    m: massa, entrada como uma variável float\n",
            "    h: altura, entrada como uma variável float\n",
            "    \n",
            "    Argumento opcional:\n",
            "    g: aceleração gravitacional, com valor default de 10\n",
            "\n"
          ]
        }
      ]
    },
    {
      "cell_type": "markdown",
      "source": [
        "## Exercícios\n",
        "\n",
        "1. Ler uma temperatura em graus Celsius e apresentá-la convertida em graus Fahrenheit. A fórmula de conversão é F = (9 * C + 160) / 5, na qual F é a temperatura em Fahrenheit e C é a temperatura em graus Celsius\n",
        "- Função para ler e retorna o valor da temperatura (não recebe parâmetro)\n",
        "\n"
      ],
      "metadata": {
        "id": "vcVV8-DkPDkI"
      }
    },
    {
      "cell_type": "code",
      "source": [
        "def ler_temperatura():\n",
        "  c = float(input('Informe a temperatura em graus Celsius: '))\n",
        "  return c"
      ],
      "metadata": {
        "id": "7-lm4qmWQfHu"
      },
      "execution_count": 15,
      "outputs": []
    },
    {
      "cell_type": "code",
      "source": [
        "ler_temperatura()"
      ],
      "metadata": {
        "colab": {
          "base_uri": "https://localhost:8080/"
        },
        "id": "hqwKX7YZQoj_",
        "outputId": "d91819fc-14db-4c5f-a30d-9c269631236f"
      },
      "execution_count": 16,
      "outputs": [
        {
          "name": "stdout",
          "output_type": "stream",
          "text": [
            "Informe a temperatura em graus Celsius: 30\n"
          ]
        },
        {
          "output_type": "execute_result",
          "data": {
            "text/plain": [
              "30.0"
            ]
          },
          "metadata": {},
          "execution_count": 16
        }
      ]
    },
    {
      "cell_type": "markdown",
      "source": [
        "- Função para fazer o cálculo (recebe como parâmetro a temperatura em graus Celsius)\n"
      ],
      "metadata": {
        "id": "TlBQqwlzRG4H"
      }
    },
    {
      "cell_type": "code",
      "source": [
        "def Celsius_to_Fahrenheit(c):\n",
        "  f = (9 * c + 160) / 5\n",
        "  return f"
      ],
      "metadata": {
        "id": "PhcbOwnlPZD2"
      },
      "execution_count": 13,
      "outputs": []
    },
    {
      "cell_type": "code",
      "source": [
        "Celsius_to_Fahrenheit(30)"
      ],
      "metadata": {
        "colab": {
          "base_uri": "https://localhost:8080/"
        },
        "id": "Hcyjk1nEPybZ",
        "outputId": "2a4240dd-d853-41ce-d838-18a55b80c7d1"
      },
      "execution_count": 14,
      "outputs": [
        {
          "output_type": "execute_result",
          "data": {
            "text/plain": [
              "86.0"
            ]
          },
          "metadata": {},
          "execution_count": 14
        }
      ]
    },
    {
      "cell_type": "markdown",
      "source": [
        "- Função para mostrar o resultado, recebendo como parâmetro o valor e fazendo a impressão"
      ],
      "metadata": {
        "id": "dAYzQiaJRIXn"
      }
    },
    {
      "cell_type": "code",
      "source": [
        "def Celsius_to_Fahrenheit():\n",
        "  c = float(input('Informe a temperatura em graus Celsius: '))\n",
        "  f = (9 * c + 160) / 5\n",
        "  return f"
      ],
      "metadata": {
        "id": "MlzHKEDoQwKY"
      },
      "execution_count": 19,
      "outputs": []
    },
    {
      "cell_type": "code",
      "source": [
        "Celsius_to_Fahrenheit()"
      ],
      "metadata": {
        "colab": {
          "base_uri": "https://localhost:8080/"
        },
        "id": "ZbPxZ5chQ6bu",
        "outputId": "2defb418-71fd-4cdd-818f-946e4b75ca28"
      },
      "execution_count": 30,
      "outputs": [
        {
          "name": "stdout",
          "output_type": "stream",
          "text": [
            "Informe a temperatura em graus Celsius: 20\n"
          ]
        },
        {
          "output_type": "execute_result",
          "data": {
            "text/plain": [
              "68.0"
            ]
          },
          "metadata": {},
          "execution_count": 30
        }
      ]
    },
    {
      "cell_type": "markdown",
      "source": [
        "2. Efetuar o cálculo da quantidade de litros de combustível gasto em uma viagem, utilizando um automóvel que faz 12 Km por litro. Para obter o cálculo, o usuário deve fornecer o tempo gasto na viagem e a velocidade média durante ela. Desta forma, será possível obter a distância percorrida com a fórmula DISTANCIA = TEMPO * VELOCIDADE. Tendo o valor da distância, basta calcular a quantidade de litros de combustível utilizada na viagem, com a fórmula: LITROS_USADOS = DISTANCIA / 12. O programa deve apresentar os valores da velocidade média, tempo gasto na viagem, a distância percorrida e a quantidade de litros utilizada na viagem\n",
        "\n",
        "- Função para ler os valores (não recebe parâmetro e retorna os dois valores)"
      ],
      "metadata": {
        "id": "GIXq0VquRKn_"
      }
    },
    {
      "cell_type": "code",
      "source": [
        "def ler_valores():\n",
        "  t = float(input('Informe o tempo gasto na viagem: '))\n",
        "  v = float(input('Informe a velocidade média: '))\n",
        "  return t, v"
      ],
      "metadata": {
        "id": "rzYa7F_cRZBN"
      },
      "execution_count": 22,
      "outputs": []
    },
    {
      "cell_type": "code",
      "source": [
        "ler_valores()"
      ],
      "metadata": {
        "colab": {
          "base_uri": "https://localhost:8080/"
        },
        "id": "RQAuYObRRtPW",
        "outputId": "cdf856f9-0d9c-4bf4-8ff2-be06c5d83172"
      },
      "execution_count": 23,
      "outputs": [
        {
          "name": "stdout",
          "output_type": "stream",
          "text": [
            "Informe o tempo gasto na viagem: 2\n",
            "Informe a velocidade média: 6\n"
          ]
        }
      ]
    },
    {
      "cell_type": "markdown",
      "source": [
        "- Função para calcular a distância (recebe como parâmetro o tempo e a velocidade e retorna a distância)"
      ],
      "metadata": {
        "id": "Ldqwnt4lR2ug"
      }
    },
    {
      "cell_type": "code",
      "source": [
        "def distancia(t,v):\n",
        "  return t * v"
      ],
      "metadata": {
        "id": "GkC_WdL8R5EB"
      },
      "execution_count": 24,
      "outputs": []
    },
    {
      "cell_type": "code",
      "source": [
        "distancia(2,3)"
      ],
      "metadata": {
        "colab": {
          "base_uri": "https://localhost:8080/"
        },
        "id": "-IKadGdYSC0G",
        "outputId": "c0d4dca8-24d4-4903-fb57-d84666247657"
      },
      "execution_count": 25,
      "outputs": [
        {
          "output_type": "execute_result",
          "data": {
            "text/plain": [
              "6"
            ]
          },
          "metadata": {},
          "execution_count": 25
        }
      ]
    },
    {
      "cell_type": "markdown",
      "source": [
        "- Função para calcular a quantidade de litros (recebe como parâmetro a distância e retorna os litros)"
      ],
      "metadata": {
        "id": "mAqKI1EbSGOH"
      }
    },
    {
      "cell_type": "code",
      "source": [
        "def litros(d):\n",
        "  l = d / 12\n",
        "  return l"
      ],
      "metadata": {
        "id": "nbCdT8dbSGy4"
      },
      "execution_count": 26,
      "outputs": []
    },
    {
      "cell_type": "code",
      "source": [
        "litros(6)"
      ],
      "metadata": {
        "colab": {
          "base_uri": "https://localhost:8080/"
        },
        "id": "dODnJElySRzg",
        "outputId": "ba9360af-2ed8-4616-e2c5-66c3989287b2"
      },
      "execution_count": 27,
      "outputs": [
        {
          "output_type": "execute_result",
          "data": {
            "text/plain": [
              "0.5"
            ]
          },
          "metadata": {},
          "execution_count": 27
        }
      ]
    },
    {
      "cell_type": "markdown",
      "source": [
        "Função para apresentar o resultado (recebe como parâmetro os valores e somente imprime o resultado)"
      ],
      "metadata": {
        "id": "AMMDq-mySTqI"
      }
    },
    {
      "cell_type": "code",
      "source": [
        "def litros_usados():\n",
        "  t = float(input('Informe o tempo gasto na viagem: '))\n",
        "  v = float(input('Informe a velocidade média: '))\n",
        "  d = t * v\n",
        "  l = d / 12\n",
        "  print(f'A velocidade média foi de {v};')\n",
        "  print(f'O tempo gasto na viagem foi {t};')\n",
        "  print(f'A distância percorrida foi de {d};')\n",
        "  print(f'A quantidade de litros utilizada na viagem foi de {l}.')"
      ],
      "metadata": {
        "id": "ipAVA3U5SWun"
      },
      "execution_count": 31,
      "outputs": []
    },
    {
      "cell_type": "code",
      "source": [
        "litros_usados()"
      ],
      "metadata": {
        "colab": {
          "base_uri": "https://localhost:8080/"
        },
        "id": "blXORCZwS7oV",
        "outputId": "99028cc0-7ceb-416c-8d9e-e521691fed7f"
      },
      "execution_count": 32,
      "outputs": [
        {
          "output_type": "stream",
          "name": "stdout",
          "text": [
            "Informe o tempo gasto na viagem: 2\n",
            "Informe a velocidade média: 80\n",
            "A velocidade média foi de 80.0;\n",
            "O tempo gasto na viagem foi 2.0;\n",
            "A distância percorrida foi de 160.0;\n",
            "A quantidade de litros utilizada na viagem foi de 13.333333333333334.\n"
          ]
        }
      ]
    }
  ]
}