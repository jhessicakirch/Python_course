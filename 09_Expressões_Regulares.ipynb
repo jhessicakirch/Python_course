{
  "nbformat": 4,
  "nbformat_minor": 0,
  "metadata": {
    "colab": {
      "provenance": [],
      "authorship_tag": "ABX9TyOMIW38YuVcL2rcY2oG6+BP"
    },
    "kernelspec": {
      "name": "python3",
      "display_name": "Python 3"
    },
    "language_info": {
      "name": "python"
    }
  },
  "cells": [
    {
      "cell_type": "markdown",
      "source": [
        "# Expressões regulares\n",
        "\n",
        "**Metacaracteres**\n",
        "\n",
        "- . Qualquer caractere (exceto linha nova)\n",
        "- \\w Qualquer caractere alfanumérico\n",
        "- \\W Qualquer caractere não alfanumérico\n",
        "- \\d Qualquer caractere que seja um dígito (0 - 9)\n",
        "- \\D Qualquer caractere não dígito\n",
        "- \\s Espaço em branco\n",
        "- ^ Começa com\n",
        "- $ termina em\n",
        "- \\\\ Usado antes de metacaracteres para especificar seu significado literal\n",
        "\n",
        "**Quantificadores**\n",
        "\n",
        "- [] opcional entre os que estão dentro dos colchetes\n",
        "- () caracteriza grupo de caracteres\n",
        "- \\* de zero a mais vezes\n",
        "- ? zero ou uma vez\n",
        "- \\+ uma ou mais vezes\n",
        "- {m,n} de m a n vezes\n",
        "- | ou\n",
        "\n",
        "## Função search\n",
        "\n",
        "Procura uma ocorrência\n"
      ],
      "metadata": {
        "id": "CS40-g8IydB7"
      }
    },
    {
      "cell_type": "code",
      "execution_count": null,
      "metadata": {
        "id": "AcmGZ4g1yZ6M"
      },
      "outputs": [],
      "source": [
        "import re"
      ]
    },
    {
      "cell_type": "code",
      "source": [
        "frase = 'Olá, meu número de telefone é (42)00010-0000'\n",
        "# procura o padrão: ( dois digitos ) quatro a cinco digitos, trço e mais 4 digitos\n",
        "re.search('\\(\\d{2}\\)\\d{4,5}-\\d{4}', frase)"
      ],
      "metadata": {
        "colab": {
          "base_uri": "https://localhost:8080/"
        },
        "id": "Xk7kuZ103rUT",
        "outputId": "ecdf3df4-c3ed-46d4-9d6c-7b6d77921501"
      },
      "execution_count": null,
      "outputs": [
        {
          "output_type": "execute_result",
          "data": {
            "text/plain": [
              "<re.Match object; span=(30, 44), match='(42)00010-0000'>"
            ]
          },
          "metadata": {},
          "execution_count": 2
        }
      ]
    },
    {
      "cell_type": "code",
      "source": [
        "frase = 'A placa de carro que eu anotei durante o acidente foi FrT-1998'\n",
        "# procura o padrão: 3 caracteres de A a Z (maiusculo e minusculo), traço e mais 4 digitos\n",
        "re.search('[A-Za-z]{3}-\\d{4}', frase)"
      ],
      "metadata": {
        "colab": {
          "base_uri": "https://localhost:8080/"
        },
        "id": "yGUPyrQS3xqK",
        "outputId": "c980151e-4fc0-475a-c0e7-950c38e6ee1b"
      },
      "execution_count": null,
      "outputs": [
        {
          "output_type": "execute_result",
          "data": {
            "text/plain": [
              "<re.Match object; span=(54, 62), match='FrT-1998'>"
            ]
          },
          "metadata": {},
          "execution_count": 3
        }
      ]
    },
    {
      "cell_type": "code",
      "source": [
        "email = 'Entre em contato, meu email é teste@teste.com'\n",
        "# procura o padrão: um ou mais caracteres alfanumericos, o simbol @, um ou mais caracteres alfanumericos e .com\n",
        "re.search('\\w+@\\w+\\.com', email)"
      ],
      "metadata": {
        "colab": {
          "base_uri": "https://localhost:8080/"
        },
        "id": "LglbjiDb4RV2",
        "outputId": "eef1739d-ff9f-4bfd-b3f8-982fa6ea3bd4"
      },
      "execution_count": null,
      "outputs": [
        {
          "output_type": "execute_result",
          "data": {
            "text/plain": [
              "<re.Match object; span=(30, 45), match='teste@teste.com'>"
            ]
          },
          "metadata": {},
          "execution_count": 4
        }
      ]
    },
    {
      "cell_type": "markdown",
      "source": [
        "## Função match\n",
        "\n",
        "Procura se esta no começo da string"
      ],
      "metadata": {
        "id": "RTqgHLhm4f1U"
      }
    },
    {
      "cell_type": "code",
      "source": [
        "# nesse caso nao esta no começo\n",
        "frase = 'A placa de carro que eu anotei durante o acidente foi FrT-1998'\n",
        "print(re.match('[A-Za-z]{3}-\\d{4}', frase))"
      ],
      "metadata": {
        "colab": {
          "base_uri": "https://localhost:8080/"
        },
        "id": "XBcOoyM64fiq",
        "outputId": "1ba4606e-46bc-4f38-8dc5-050efb5998f7"
      },
      "execution_count": null,
      "outputs": [
        {
          "output_type": "stream",
          "name": "stdout",
          "text": [
            "None\n"
          ]
        }
      ]
    },
    {
      "cell_type": "code",
      "source": [
        "# nesse caso esta no começo\n",
        "frase2 = 'FRT-1998 é a placa do carro'\n",
        "print(re.match('[A-Za-z]{3}-\\d{4}', frase2))"
      ],
      "metadata": {
        "colab": {
          "base_uri": "https://localhost:8080/"
        },
        "id": "HafC8KW54wAV",
        "outputId": "eb4a6801-f069-4869-8047-c317953d56d9"
      },
      "execution_count": null,
      "outputs": [
        {
          "output_type": "stream",
          "name": "stdout",
          "text": [
            "<re.Match object; span=(0, 8), match='FRT-1998'>\n"
          ]
        }
      ]
    },
    {
      "cell_type": "markdown",
      "source": [
        "## Função findall\n",
        "\n",
        "Procura todos as ocorrencias do padrão"
      ],
      "metadata": {
        "id": "JaH4xX0L40yT"
      }
    },
    {
      "cell_type": "code",
      "source": [
        "frase3 = 'Meu número de telefone atual é (42)0000-0000. O número (56)1111-1111 é o antigo'\n",
        "re.findall('\\(\\d{2}\\)\\d{4,5}-\\d{4}', frase3)"
      ],
      "metadata": {
        "colab": {
          "base_uri": "https://localhost:8080/"
        },
        "id": "WuSOyzD36Q96",
        "outputId": "18f3d3c6-5f20-4b3c-a8d8-0a91a5416da9"
      },
      "execution_count": null,
      "outputs": [
        {
          "output_type": "execute_result",
          "data": {
            "text/plain": [
              "['(42)0000-0000', '(56)1111-1111']"
            ]
          },
          "metadata": {},
          "execution_count": 7
        }
      ]
    },
    {
      "cell_type": "code",
      "source": [
        "emails = '''Nome: Teste 1\n",
        "email: teste1@teste.com\n",
        "Nome: Teste 2\n",
        "email: teste2@teste.com\n",
        "Nome: Teste 3\n",
        "email: teste3@teste.com.br\n",
        "'''\n",
        "re.findall('\\w+@\\w+\\.\\w+.?\\w+', emails)"
      ],
      "metadata": {
        "colab": {
          "base_uri": "https://localhost:8080/"
        },
        "id": "k45iFaif6dEb",
        "outputId": "883e6d78-f015-4668-8d5d-f918d48c380b"
      },
      "execution_count": null,
      "outputs": [
        {
          "output_type": "execute_result",
          "data": {
            "text/plain": [
              "['teste1@teste.com', 'teste2@teste.com', 'teste3@teste.com.br']"
            ]
          },
          "metadata": {},
          "execution_count": 8
        }
      ]
    },
    {
      "cell_type": "markdown",
      "source": [
        "# Exercícios\n",
        "\n",
        "Crie expressões regulares para extrair as seguintes informações do texto abaixo (use a função findall):\n",
        "\n",
        "Números\n",
        "\n",
        "CEPs\n",
        "\n",
        "URLs"
      ],
      "metadata": {
        "id": "QlSOkyu66l_k"
      }
    },
    {
      "cell_type": "code",
      "source": [
        "texto = \"Minha casa fica na rua Carneiro, 78. O CEP é 88388-000 e 11111-111 meu site é https://www.iaexpert.academy http://iaexpert.com.br\""
      ],
      "metadata": {
        "id": "FY4Y0etm6xSC"
      },
      "execution_count": null,
      "outputs": []
    },
    {
      "cell_type": "code",
      "source": [
        "#numeros\n",
        "re.findall('\\d', texto)"
      ],
      "metadata": {
        "colab": {
          "base_uri": "https://localhost:8080/"
        },
        "id": "y4XigTDr66W0",
        "outputId": "375d3fcc-61f3-4693-e654-e2be3637d32f"
      },
      "execution_count": null,
      "outputs": [
        {
          "output_type": "execute_result",
          "data": {
            "text/plain": [
              "['7',\n",
              " '8',\n",
              " '8',\n",
              " '8',\n",
              " '3',\n",
              " '8',\n",
              " '8',\n",
              " '0',\n",
              " '0',\n",
              " '0',\n",
              " '1',\n",
              " '1',\n",
              " '1',\n",
              " '1',\n",
              " '1',\n",
              " '1',\n",
              " '1',\n",
              " '1']"
            ]
          },
          "metadata": {},
          "execution_count": 14
        }
      ]
    },
    {
      "cell_type": "code",
      "source": [
        "#CEPs\n",
        "re.findall('\\d{5}-\\d{3}', texto)"
      ],
      "metadata": {
        "colab": {
          "base_uri": "https://localhost:8080/"
        },
        "id": "Rq4-NRgw7fA7",
        "outputId": "baf62b51-cf35-4156-a9b0-8fca0e0db887"
      },
      "execution_count": null,
      "outputs": [
        {
          "output_type": "execute_result",
          "data": {
            "text/plain": [
              "['88388-000', '11111-111']"
            ]
          },
          "metadata": {},
          "execution_count": 15
        }
      ]
    },
    {
      "cell_type": "code",
      "source": [
        "#URLs\n",
        "re.findall('http.+\\..+\\..+', texto)"
      ],
      "metadata": {
        "colab": {
          "base_uri": "https://localhost:8080/"
        },
        "id": "MIrEXi1R7wuj",
        "outputId": "d533201d-98e0-493b-ed1d-8b357c77dc84"
      },
      "execution_count": null,
      "outputs": [
        {
          "output_type": "execute_result",
          "data": {
            "text/plain": [
              "['https://www.iaexpert.academy http://iaexpert.com.br']"
            ]
          },
          "metadata": {},
          "execution_count": 16
        }
      ]
    },
    {
      "cell_type": "code",
      "source": [
        "# outra opção\n",
        "# padrão 'http' s? significa zero ou uma vez\n",
        "# os colchetes indicam opcional entre A a Z maiusculo ou minusculo, 0 a 9 ou o caractere .\n",
        "# o mais significa que pode acontecer uma ou mais vezes\n",
        "re.findall('https?://[A-Za-z0-9./]+', texto)"
      ],
      "metadata": {
        "colab": {
          "base_uri": "https://localhost:8080/"
        },
        "id": "5aUv6r9q8aHb",
        "outputId": "ff8eac65-f77c-479b-9057-d48c96070398"
      },
      "execution_count": null,
      "outputs": [
        {
          "output_type": "execute_result",
          "data": {
            "text/plain": [
              "['https://www.iaexpert.academy', 'http://iaexpert.com.br']"
            ]
          },
          "metadata": {},
          "execution_count": 18
        }
      ]
    }
  ]
}