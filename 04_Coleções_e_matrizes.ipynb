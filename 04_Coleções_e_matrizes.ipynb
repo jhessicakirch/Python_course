{
  "nbformat": 4,
  "nbformat_minor": 0,
  "metadata": {
    "colab": {
      "provenance": [],
      "authorship_tag": "ABX9TyPoo3SMZXkpC63y+NV5ZJAr"
    },
    "kernelspec": {
      "name": "python3",
      "display_name": "Python 3"
    },
    "language_info": {
      "name": "python"
    }
  },
  "cells": [
    {
      "cell_type": "markdown",
      "source": [
        "# Coleções\n",
        "\n",
        "**Tuplas**"
      ],
      "metadata": {
        "id": "EmHUeFKL0Xm-"
      }
    },
    {
      "cell_type": "code",
      "execution_count": null,
      "metadata": {
        "id": "C90aPvsz0O1o"
      },
      "outputs": [],
      "source": [
        "tupla = ('Homo sapiens', 'Canis familiaris', 'Felis catus')"
      ]
    },
    {
      "cell_type": "code",
      "source": [
        "tupla[0]"
      ],
      "metadata": {
        "id": "wT9Le07t0oKM"
      },
      "execution_count": null,
      "outputs": []
    },
    {
      "cell_type": "code",
      "source": [
        "tupla.index('Canis familiaris')"
      ],
      "metadata": {
        "id": "t55b7OLO0qsc"
      },
      "execution_count": null,
      "outputs": []
    },
    {
      "cell_type": "code",
      "source": [
        "for elemento in tupla:\n",
        "  print(elemento)"
      ],
      "metadata": {
        "id": "FlWKSbuD0r37"
      },
      "execution_count": null,
      "outputs": []
    },
    {
      "cell_type": "markdown",
      "source": [
        "**Listas**"
      ],
      "metadata": {
        "id": "LYEZwcud0sdM"
      }
    },
    {
      "cell_type": "code",
      "source": [
        "l1 = ['Homo sapiens', 'Canis familiaris', 'Felis catus']\n",
        "l2 = ['Xenopus laevis', 'Ailuropoda melanoleuca']"
      ],
      "metadata": {
        "id": "ts_CS1670uG9"
      },
      "execution_count": null,
      "outputs": []
    },
    {
      "cell_type": "code",
      "source": [
        "l3 = l1 + l2\n",
        "print(l3)"
      ],
      "metadata": {
        "id": "DtQC51Nv09ru"
      },
      "execution_count": null,
      "outputs": []
    },
    {
      "cell_type": "code",
      "source": [
        "l2_2 = l2 * 2\n",
        "print(l2_2)"
      ],
      "metadata": {
        "id": "IF-hDMm21ACW"
      },
      "execution_count": null,
      "outputs": []
    },
    {
      "cell_type": "code",
      "source": [
        "#adicionar item\n",
        "l1.append('Gorila gorila')\n",
        "print(l1)"
      ],
      "metadata": {
        "id": "dcGmE0wu1DfE"
      },
      "execution_count": null,
      "outputs": []
    },
    {
      "cell_type": "code",
      "source": [
        "#remover item\n",
        "l1.remove('Felis catus')\n",
        "print(l1)"
      ],
      "metadata": {
        "id": "E2uPjar31E2M"
      },
      "execution_count": null,
      "outputs": []
    },
    {
      "cell_type": "code",
      "source": [
        "#deletar lista\n",
        "del(l1)"
      ],
      "metadata": {
        "id": "h3uyyEqX1HV4"
      },
      "execution_count": null,
      "outputs": []
    },
    {
      "cell_type": "markdown",
      "source": [
        "**Dicionários**\n"
      ],
      "metadata": {
        "id": "e7QOV_mg1Ojz"
      }
    },
    {
      "cell_type": "code",
      "source": [
        "coleta = {'Aedes aegypt': 32, 'Aedes albopictus': 22, 'Anopheles darlingi': 14}"
      ],
      "metadata": {
        "id": "i74KvmSe1RZk"
      },
      "execution_count": 2,
      "outputs": []
    },
    {
      "cell_type": "code",
      "source": [
        "#adicionar iem\n",
        "coleta['Rhodnius montenegrensis'] = 11"
      ],
      "metadata": {
        "id": "T5Tkg-KY2fuT"
      },
      "execution_count": 3,
      "outputs": []
    },
    {
      "cell_type": "code",
      "source": [
        "#remover item\n",
        "del(coleta)['Aedes albopictus']\n",
        "print(coleta)"
      ],
      "metadata": {
        "colab": {
          "base_uri": "https://localhost:8080/"
        },
        "id": "g_FvJ8Ct2gCX",
        "outputId": "a743c971-900b-40cf-cbff-ea409da2bb5f"
      },
      "execution_count": 4,
      "outputs": [
        {
          "output_type": "stream",
          "name": "stdout",
          "text": [
            "{'Aedes aegypt': 32, 'Anopheles darlingi': 14, 'Rhodnius montenegrensis': 11}\n"
          ]
        }
      ]
    },
    {
      "cell_type": "code",
      "source": [
        "#formas de visualizar o dicionario\n",
        "coleta.items()\n",
        "coleta.keys()\n",
        "coleta.values()"
      ],
      "metadata": {
        "id": "6S3y4LO32yRW"
      },
      "execution_count": null,
      "outputs": []
    },
    {
      "cell_type": "code",
      "source": [
        "#atualizar o dicionario\n",
        "coleta2 = {'Anopheles gambiae': 13, 'Anopheles deaneorum': 14}\n",
        "coleta.update(coleta2)\n",
        "print(coleta)"
      ],
      "metadata": {
        "colab": {
          "base_uri": "https://localhost:8080/"
        },
        "id": "m5teKg6v27GG",
        "outputId": "2a245f01-cce1-4097-c636-40266cc7d614"
      },
      "execution_count": 5,
      "outputs": [
        {
          "output_type": "stream",
          "name": "stdout",
          "text": [
            "{'Aedes aegypt': 32, 'Anopheles darlingi': 14, 'Rhodnius montenegrensis': 11, 'Anopheles gambiae': 13, 'Anopheles deaneorum': 14}\n"
          ]
        }
      ]
    },
    {
      "cell_type": "code",
      "source": [
        "for especie, num_especimes in coleta.items():\n",
        "  print(f'Espécie: {especie}, número de espécimes coletados: {num_especimes}')"
      ],
      "metadata": {
        "colab": {
          "base_uri": "https://localhost:8080/"
        },
        "id": "L0OTzwOR3FEz",
        "outputId": "4b6f91f1-fffc-48fd-84d8-bde8b23e314d"
      },
      "execution_count": 6,
      "outputs": [
        {
          "output_type": "stream",
          "name": "stdout",
          "text": [
            "Espécie: Aedes aegypt, número de espécimes coletados: 32\n",
            "Espécie: Anopheles darlingi, número de espécimes coletados: 14\n",
            "Espécie: Rhodnius montenegrensis, número de espécimes coletados: 11\n",
            "Espécie: Anopheles gambiae, número de espécimes coletados: 13\n",
            "Espécie: Anopheles deaneorum, número de espécimes coletados: 14\n"
          ]
        }
      ]
    },
    {
      "cell_type": "markdown",
      "source": [
        "**Conjuntos (set)**"
      ],
      "metadata": {
        "id": "C1DAIkEK3JAZ"
      }
    },
    {
      "cell_type": "code",
      "source": [
        "biomeleculas = ('proteína', 'ácidos nucleicos', 'carboidrato', 'ácidos nucleicos')\n",
        "print(biomeleculas)"
      ],
      "metadata": {
        "colab": {
          "base_uri": "https://localhost:8080/"
        },
        "id": "Ncm89qCt3K8i",
        "outputId": "fcfeebdb-aeac-412b-d6fa-decf08c473a1"
      },
      "execution_count": 7,
      "outputs": [
        {
          "output_type": "stream",
          "name": "stdout",
          "text": [
            "('proteína', 'ácidos nucleicos', 'carboidrato', 'ácidos nucleicos')\n"
          ]
        }
      ]
    },
    {
      "cell_type": "code",
      "source": [
        "#itens unicos\n",
        "print(set(biomeleculas))"
      ],
      "metadata": {
        "colab": {
          "base_uri": "https://localhost:8080/"
        },
        "id": "HpxN0cYo4Jon",
        "outputId": "98a94897-7e3a-4213-9c0b-04e91759923f"
      },
      "execution_count": 8,
      "outputs": [
        {
          "output_type": "stream",
          "name": "stdout",
          "text": [
            "{'proteína', 'carboidrato', 'ácidos nucleicos'}\n"
          ]
        }
      ]
    },
    {
      "cell_type": "code",
      "source": [
        "#intersecção conjunto\n",
        "c1 = {1,2,3,4,5}\n",
        "c2 = {3,4,5,6,7}\n",
        "c3 = c1.intersection(c2)\n",
        "print(c3)"
      ],
      "metadata": {
        "colab": {
          "base_uri": "https://localhost:8080/"
        },
        "id": "M_TNUV114Oyg",
        "outputId": "06b96013-5c80-4f02-9e4d-a21a855693b9"
      },
      "execution_count": 9,
      "outputs": [
        {
          "output_type": "stream",
          "name": "stdout",
          "text": [
            "{3, 4, 5}\n"
          ]
        }
      ]
    },
    {
      "cell_type": "code",
      "source": [
        "#valores em c1 que nao estão em c2\n",
        "c1.difference(c2)"
      ],
      "metadata": {
        "colab": {
          "base_uri": "https://localhost:8080/"
        },
        "id": "InIOV01Y4TEo",
        "outputId": "f71ed734-5774-4713-c28a-64dd1187db68"
      },
      "execution_count": 10,
      "outputs": [
        {
          "output_type": "execute_result",
          "data": {
            "text/plain": [
              "{1, 2}"
            ]
          },
          "metadata": {},
          "execution_count": 10
        }
      ]
    },
    {
      "cell_type": "code",
      "source": [
        "## Matrizes"
      ],
      "metadata": {
        "id": "4XKAv-fn4uK4"
      },
      "execution_count": null,
      "outputs": []
    },
    {
      "cell_type": "code",
      "source": [
        "import numpy as np"
      ],
      "metadata": {
        "id": "jRosvHTE4wJA"
      },
      "execution_count": 12,
      "outputs": []
    },
    {
      "cell_type": "code",
      "source": [
        "matriz = np.array([[2, 3, 1],\n",
        "                   [4, 5, 7]])"
      ],
      "metadata": {
        "id": "WWQ52hVe6bH-"
      },
      "execution_count": 13,
      "outputs": []
    },
    {
      "cell_type": "code",
      "source": [
        "#total de linhas e colunas\n",
        "matriz.shape"
      ],
      "metadata": {
        "colab": {
          "base_uri": "https://localhost:8080/"
        },
        "id": "0d1w3nvq6dz3",
        "outputId": "548b7904-1c13-472c-e4d4-aac596478912"
      },
      "execution_count": 14,
      "outputs": [
        {
          "output_type": "execute_result",
          "data": {
            "text/plain": [
              "(2, 3)"
            ]
          },
          "metadata": {},
          "execution_count": 14
        }
      ]
    },
    {
      "cell_type": "code",
      "source": [
        "#acessar a primeira linha\n",
        "matriz[0]"
      ],
      "metadata": {
        "id": "mS4VFNiy6erq"
      },
      "execution_count": null,
      "outputs": []
    },
    {
      "cell_type": "code",
      "source": [
        "#acessar a segunda linha e terceira coluna\n",
        "matriz[1][2]"
      ],
      "metadata": {
        "id": "e7TI8-ke6qP0"
      },
      "execution_count": null,
      "outputs": []
    },
    {
      "cell_type": "code",
      "source": [
        "for i in range(matriz.shape[0]):\n",
        "  print(matriz[i])"
      ],
      "metadata": {
        "id": "ioduI8qP6xYM"
      },
      "execution_count": null,
      "outputs": []
    },
    {
      "cell_type": "markdown",
      "source": [
        "## Exercícios\n",
        "\n",
        "1. **Lista**: Crie uma estrutura de repetição para fazer a leitura de 5 números inteiros e os armazene dentro de uma lista. Após a leitura, crie outra estrutura de repetição para somar todos os valores digitados"
      ],
      "metadata": {
        "id": "It9945_76ynZ"
      }
    },
    {
      "cell_type": "code",
      "source": [
        "lista = []\n",
        "for i in range(1,6):\n",
        "  valor = int(input(f'Digite o {i}º número inteiro: '))\n",
        "  lista.append(valor)\n",
        "\n",
        "soma = 0\n",
        "for i in range(len(l1)):\n",
        "  soma += lista[i]\n",
        "print(f'A soma dos valores da lista {lista} é igual a: {soma}')"
      ],
      "metadata": {
        "colab": {
          "base_uri": "https://localhost:8080/"
        },
        "id": "UQbBldeK64R2",
        "outputId": "260dfdd4-d905-4374-d31d-f58b7ccc4e5a"
      },
      "execution_count": 33,
      "outputs": [
        {
          "output_type": "stream",
          "name": "stdout",
          "text": [
            "Digite o 1º número inteiro: 1\n",
            "Digite o 2º número inteiro: 2\n",
            "Digite o 3º número inteiro: 3\n",
            "Digite o 4º número inteiro: 4\n",
            "Digite o 5º número inteiro: 5\n",
            "A soma dos valores da lista [1, 2, 3, 4, 5] é igual a: 15\n"
          ]
        }
      ]
    },
    {
      "cell_type": "code",
      "source": [
        "import numpy as np\n",
        "np.array(lista).sum()"
      ],
      "metadata": {
        "colab": {
          "base_uri": "https://localhost:8080/"
        },
        "id": "b3EEIQsl_hF2",
        "outputId": "c31baeea-e433-4e36-bf0c-e3de5f606999"
      },
      "execution_count": 34,
      "outputs": [
        {
          "output_type": "execute_result",
          "data": {
            "text/plain": [
              "15"
            ]
          },
          "metadata": {},
          "execution_count": 34
        }
      ]
    },
    {
      "cell_type": "markdown",
      "source": [
        "2. **Dicionário**: Crie um dicionário para armazenar o nome e a nota de 3 alunos, fazendo a leitura dos valores por meio de uma estrutura de repetição. Depois, crie uma nova estrutura de repetição para somar todas as notas e retornar a média"
      ],
      "metadata": {
        "id": "uCV4xSVM82ar"
      }
    },
    {
      "cell_type": "code",
      "source": [
        "dicionario = {}\n",
        "for i in range(1,4):\n",
        "  nome = input(f'Digite o nome do {i}º aluno: ')\n",
        "  nota = float(input(f'Digite a nota do {i}º aluno: '))\n",
        "  dicionario[nome] = nota\n",
        "\n",
        "print(dicionario)\n",
        "\n",
        "soma = 0\n",
        "for i in dicionario.values():\n",
        "  soma += i\n",
        "print(f'A média das notas dos alunos é igual a: {round(soma/len(dicionario),2)}')"
      ],
      "metadata": {
        "colab": {
          "base_uri": "https://localhost:8080/"
        },
        "id": "4AzpH1sQ83TC",
        "outputId": "952a8186-f187-4648-f214-174ea2d2ba24"
      },
      "execution_count": 31,
      "outputs": [
        {
          "output_type": "stream",
          "name": "stdout",
          "text": [
            "Digite o nome do 1º aluno: a\n",
            "Digite a nota do 1º aluno: 2\n",
            "Digite o nome do 2º aluno: b\n",
            "Digite a nota do 2º aluno: 3\n",
            "Digite o nome do 3º aluno: e\n",
            "Digite a nota do 3º aluno: 5\n",
            "{'a': 2.0, 'b': 3.0, 'e': 5.0}\n",
            "A média das notas dos alunos é igual a: 3.33\n"
          ]
        }
      ]
    },
    {
      "cell_type": "code",
      "source": [
        "# outra possibilidade\n",
        "alunos = {}\n",
        "for _ in range(1, 4):\n",
        "  nome = input('Digite o nome: ')\n",
        "  nota = float(input('Digite a nota: '))\n",
        "  alunos[nome] = nota\n",
        "\n",
        "soma = 0\n",
        "for nota in alunos.values():\n",
        "  #print(nota)\n",
        "  soma += nota\n",
        "print('Média: ', soma / 3)"
      ],
      "metadata": {
        "colab": {
          "base_uri": "https://localhost:8080/"
        },
        "id": "iTVrl1Xg_xHp",
        "outputId": "afa63169-332e-4b3f-e07a-978ef079f499"
      },
      "execution_count": 36,
      "outputs": [
        {
          "output_type": "stream",
          "name": "stdout",
          "text": [
            "Digite o nome: a\n",
            "Digite a nota: 2\n",
            "Digite o nome: b\n",
            "Digite a nota: 3\n",
            "Digite o nome: e\n",
            "Digite a nota: 5\n",
            "Média:  3.3333333333333335\n"
          ]
        }
      ]
    },
    {
      "cell_type": "markdown",
      "source": [
        "3. **Matriz**: Dada a matriz abaixo, construa uma estrutura de repetição para percorrer e somar todos os elementos da matriz"
      ],
      "metadata": {
        "id": "poKsH-HJ-4h2"
      }
    },
    {
      "cell_type": "code",
      "source": [
        "matriz = np.array([[3, 4, 1],\n",
        "                   [3, 1, 5]])\n",
        "\n",
        "soma = 0\n",
        "for i in range(matriz.shape[0]):\n",
        "  for j in range(matriz.shape[1]):\n",
        "    soma += matriz[i][j]\n",
        "print(f'A soma dos valores da matriz é igual a: {soma}')"
      ],
      "metadata": {
        "colab": {
          "base_uri": "https://localhost:8080/"
        },
        "id": "N-1_jBPv-RRR",
        "outputId": "3737b36e-fabc-4f7d-a89a-a34b2d0e861b"
      },
      "execution_count": 32,
      "outputs": [
        {
          "output_type": "stream",
          "name": "stdout",
          "text": [
            "A soma dos valores da matriz é igual a: 17\n"
          ]
        }
      ]
    }
  ]
}